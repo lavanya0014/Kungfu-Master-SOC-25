{
  "nbformat": 4,
  "nbformat_minor": 0,
  "metadata": {
    "colab": {
      "provenance": []
    },
    "kernelspec": {
      "name": "python3",
      "display_name": "Python 3"
    },
    "language_info": {
      "name": "python"
    }
  },
  "cells": [
    {
      "cell_type": "code",
      "source": [
        "import numpy as np\n",
        "\n",
        "def load_mdp(filename):\n",
        "    S, A = 0, 0\n",
        "    terms = []\n",
        "    trans = {}\n",
        "    mdptype = None\n",
        "    gamma = 0\n",
        "\n",
        "    with open(filename, 'r') as f:\n",
        "        for line in f:\n",
        "            parts = line.split()\n",
        "            if not parts:\n",
        "                continue\n",
        "            command = parts[0]\n",
        "            if command == 'numStates':\n",
        "                S = int(parts[1])\n",
        "            elif command == 'numActions':\n",
        "                A = int(parts[1])\n",
        "            elif command == 'end':\n",
        "                terms = [int(s) for s in parts[1:]]\n",
        "            elif command == 'transition':\n",
        "                s = int(parts[1])\n",
        "                a = int(parts[2])\n",
        "                s_prime = int(parts[3])\n",
        "                reward = float(parts[4])\n",
        "                prob = float(parts[5])\n",
        "                if s not in trans:\n",
        "                    trans[s] = {}\n",
        "                if a not in trans[s]:\n",
        "                    trans[s][a] = []\n",
        "                trans[s][a].append((s_prime, reward, prob))\n",
        "            elif command == 'mdptype':\n",
        "                mdptype = parts[1]\n",
        "            elif command == 'discount':\n",
        "                gamma = float(parts[1])\n",
        "    return S, A, terms, trans, mdptype, gamma\n",
        "\n",
        "def value_iteration(S, A, terms, trans, gamma, epsilon=1e-6):\n",
        "    V = np.zeros(S)\n",
        "    pi = -np.ones(S, dtype=int)\n",
        "    iterations = 0\n",
        "\n",
        "    while True:\n",
        "        iterations += 1\n",
        "        delta = 0\n",
        "        V_new = np.copy(V)\n",
        "\n",
        "        for s in range(S):\n",
        "            if s in terms:\n",
        "                V_new[s] = 0\n",
        "                pi[s] = -1\n",
        "                continue\n",
        "\n",
        "            max_q = -np.inf\n",
        "            best_a = -1\n",
        "\n",
        "            for a in range(A):\n",
        "                q_sa = 0\n",
        "                if s in trans and a in trans[s]:\n",
        "                    for s_prime, reward, prob in trans[s][a]:\n",
        "                        q_sa += prob * (reward + gamma * V[s_prime])\n",
        "\n",
        "                if q_sa > max_q:\n",
        "                    max_q = q_sa\n",
        "                    best_a = a\n",
        "\n",
        "            V_new[s] = max_q\n",
        "            pi[s] = best_a\n",
        "\n",
        "        delta = np.max(np.abs(V_new - V))\n",
        "        V = np.copy(V_new)\n",
        "\n",
        "        if delta < epsilon:\n",
        "            break\n",
        "\n",
        "    print(f\"Converged in {iterations} iterations (δ={delta:.6f})\")\n",
        "    return V, pi"
      ],
      "metadata": {
        "id": "6PkEFvRbyDc6"
      },
      "execution_count": 5,
      "outputs": []
    },
    {
      "cell_type": "code",
      "source": [
        "import glob\n",
        "mdp_files = sorted(glob.glob('/content/sample_data/continuing-mdp-2-2.txt'))\n",
        "\n",
        "for path in mdp_files:\n",
        "    S, A, terms, trans, mdptype, gamma = load_mdp(path)\n",
        "    print(f\"\\n--- Solving {path} ({mdptype}, γ={gamma}) ---\")\n",
        "    V, pi = value_iteration(S, A, terms, trans, gamma)\n",
        "    for s in range(S):\n",
        "        action = '–' if pi[s] < 0 else pi[s]\n",
        "        print(f\"State {s}: V* = {V[s]:.6f}\\tπ* = {action}\")\n"
      ],
      "metadata": {
        "colab": {
          "base_uri": "https://localhost:8080/"
        },
        "id": "KdgDMBDjyVEl",
        "outputId": "7fd6ca2b-9080-4c8e-c90f-e96745db9059"
      },
      "execution_count": 7,
      "outputs": [
        {
          "output_type": "stream",
          "name": "stdout",
          "text": [
            "\n",
            "--- Solving /content/sample_data/continuing-mdp-2-2.txt (continuing, γ=0.96) ---\n",
            "Converged in 305 iterations (δ=0.000001)\n",
            "State 0: V* = 5.999276\tπ* = 0\n",
            "State 1: V* = 5.918427\tπ* = 0\n"
          ]
        }
      ]
    },
    {
      "cell_type": "code",
      "source": [
        "mdp_files = sorted(glob.glob('/content/sample_data/continuing-mdp-10-5.txt'))\n",
        "\n",
        "for path in mdp_files:\n",
        "    S, A, terms, trans, mdptype, gamma = load_mdp(path)\n",
        "    print(f\"\\n--- Solving {path} ({mdptype}, γ={gamma}) ---\")\n",
        "    V, pi = value_iteration(S, A, terms, trans, gamma)\n",
        "    for s in range(S):\n",
        "        action = '–' if pi[s] < 0 else pi[s]\n",
        "        print(f\"State {s}: V* = {V[s]:.6f}\\tπ* = {action}\")\n"
      ],
      "metadata": {
        "colab": {
          "base_uri": "https://localhost:8080/"
        },
        "id": "08jBSuclyfW-",
        "outputId": "1bef7c3c-19e5-4660-fe99-2e29a654a40d"
      },
      "execution_count": 9,
      "outputs": [
        {
          "output_type": "stream",
          "name": "stdout",
          "text": [
            "\n",
            "--- Solving /content/sample_data/continuing-mdp-10-5.txt (continuing, γ=0.8) ---\n",
            "Converged in 60 iterations (δ=0.000001)\n",
            "State 0: V* = 2.234954\tπ* = 3\n",
            "State 1: V* = 2.373608\tπ* = 3\n",
            "State 2: V* = 2.604042\tπ* = 3\n",
            "State 3: V* = 2.647780\tπ* = 1\n",
            "State 4: V* = 2.522227\tπ* = 4\n",
            "State 5: V* = 2.375248\tπ* = 0\n",
            "State 6: V* = 2.684802\tπ* = 2\n",
            "State 7: V* = 2.688306\tπ* = 0\n",
            "State 8: V* = 2.640805\tπ* = 3\n",
            "State 9: V* = 2.572423\tπ* = 1\n"
          ]
        }
      ]
    },
    {
      "cell_type": "code",
      "source": [
        "mdp_files = sorted(glob.glob('/content/sample_data/continuing-mdp-50-20.txt'))\n",
        "\n",
        "for path in mdp_files:\n",
        "    S, A, terms, trans, mdptype, gamma = load_mdp(path)\n",
        "    print(f\"\\n--- Solving {path} ({mdptype}, γ={gamma}) ---\")\n",
        "    V, pi = value_iteration(S, A, terms, trans, gamma)\n",
        "    for s in range(S):\n",
        "        action = '–' if pi[s] < 0 else pi[s]\n",
        "        print(f\"State {s}: V* = {V[s]:.6f}\\tπ* = {action}\")\n"
      ],
      "metadata": {
        "colab": {
          "base_uri": "https://localhost:8080/"
        },
        "id": "baAYmnKj35MQ",
        "outputId": "ed128ba8-1b0f-4b43-c75c-6d8b18f192c5"
      },
      "execution_count": 10,
      "outputs": [
        {
          "output_type": "stream",
          "name": "stdout",
          "text": [
            "\n",
            "--- Solving /content/sample_data/continuing-mdp-50-20.txt (continuing, γ=0.2) ---\n",
            "Converged in 10 iterations (δ=0.000000)\n",
            "State 0: V* = 1.065078\tπ* = 7\n",
            "State 1: V* = 1.051695\tπ* = 2\n",
            "State 2: V* = 0.824259\tπ* = 7\n",
            "State 3: V* = 0.601320\tπ* = 14\n",
            "State 4: V* = 1.057797\tπ* = 4\n",
            "State 5: V* = 0.980877\tπ* = 19\n",
            "State 6: V* = 0.983041\tπ* = 18\n",
            "State 7: V* = 1.002595\tπ* = 5\n",
            "State 8: V* = 0.886921\tπ* = 15\n",
            "State 9: V* = 0.837798\tπ* = 8\n",
            "State 10: V* = 1.109280\tπ* = 8\n",
            "State 11: V* = 0.910305\tπ* = 19\n",
            "State 12: V* = 1.155357\tπ* = 7\n",
            "State 13: V* = 0.958098\tπ* = 8\n",
            "State 14: V* = 0.772395\tπ* = 18\n",
            "State 15: V* = 1.218693\tπ* = 16\n",
            "State 16: V* = 0.939597\tπ* = 11\n",
            "State 17: V* = 0.840961\tπ* = 19\n",
            "State 18: V* = 0.934034\tπ* = 2\n",
            "State 19: V* = 0.899851\tπ* = 12\n",
            "State 20: V* = 1.168103\tπ* = 14\n",
            "State 21: V* = 0.985183\tπ* = 19\n",
            "State 22: V* = 1.032489\tπ* = 14\n",
            "State 23: V* = 1.110618\tπ* = 15\n",
            "State 24: V* = 0.779151\tπ* = 0\n",
            "State 25: V* = 0.945382\tπ* = 1\n",
            "State 26: V* = 1.185461\tπ* = 3\n",
            "State 27: V* = 1.083733\tπ* = 18\n",
            "State 28: V* = 0.697620\tπ* = 15\n",
            "State 29: V* = 1.125198\tπ* = 5\n",
            "State 30: V* = 0.556266\tπ* = 1\n",
            "State 31: V* = 1.088646\tπ* = 6\n",
            "State 32: V* = 0.829481\tπ* = 11\n",
            "State 33: V* = 0.884322\tπ* = 6\n",
            "State 34: V* = 1.180251\tπ* = 1\n",
            "State 35: V* = 0.922217\tπ* = 4\n",
            "State 36: V* = 0.916141\tπ* = 11\n",
            "State 37: V* = 1.031048\tπ* = 10\n",
            "State 38: V* = 1.077761\tπ* = 14\n",
            "State 39: V* = 0.900196\tπ* = 19\n",
            "State 40: V* = 0.855533\tπ* = 5\n",
            "State 41: V* = 1.205419\tπ* = 0\n",
            "State 42: V* = 1.056961\tπ* = 4\n",
            "State 43: V* = 0.720773\tπ* = 14\n",
            "State 44: V* = 1.141582\tπ* = 1\n",
            "State 45: V* = 1.110485\tπ* = 4\n",
            "State 46: V* = 0.983264\tπ* = 5\n",
            "State 47: V* = 1.030596\tπ* = 3\n",
            "State 48: V* = 0.779689\tπ* = 1\n",
            "State 49: V* = 0.815195\tπ* = 12\n"
          ]
        }
      ]
    },
    {
      "cell_type": "code",
      "source": [
        "mdp_files = sorted(glob.glob('/content/sample_data/episodic-mdp-2-2.txt'))\n",
        "\n",
        "for path in mdp_files:\n",
        "    S, A, terms, trans, mdptype, gamma = load_mdp(path)\n",
        "    print(f\"\\n--- Solving {path} ({mdptype}, γ={gamma}) ---\")\n",
        "    V, pi = value_iteration(S, A, terms, trans, gamma)\n",
        "    for s in range(S):\n",
        "        action = '–' if pi[s] < 0 else pi[s]\n",
        "        print(f\"State {s}: V* = {V[s]:.6f}\\tπ* = {action}\")\n"
      ],
      "metadata": {
        "colab": {
          "base_uri": "https://localhost:8080/"
        },
        "id": "m3ICrXjH4CJK",
        "outputId": "a0148630-200a-4c0a-8752-5ef77c7a77b6"
      },
      "execution_count": 11,
      "outputs": [
        {
          "output_type": "stream",
          "name": "stdout",
          "text": [
            "\n",
            "--- Solving /content/sample_data/episodic-mdp-2-2.txt (episodic, γ=0.9) ---\n",
            "Converged in 27 iterations (δ=0.000001)\n",
            "State 0: V* = 0.000000\tπ* = –\n",
            "State 1: V* = 1.455816\tπ* = 0\n"
          ]
        }
      ]
    },
    {
      "cell_type": "code",
      "source": [
        "mdp_files = sorted(glob.glob('/content/sample_data/episodic-mdp-10-5.txt'))\n",
        "\n",
        "for path in mdp_files:\n",
        "    S, A, terms, trans, mdptype, gamma = load_mdp(path)\n",
        "    print(f\"\\n--- Solving {path} ({mdptype}, γ={gamma}) ---\")\n",
        "    V, pi = value_iteration(S, A, terms, trans, gamma)\n",
        "    for s in range(S):\n",
        "        action = '–' if pi[s] < 0 else pi[s]\n",
        "        print(f\"State {s}: V* = {V[s]:.6f}\\tπ* = {action}\")\n"
      ],
      "metadata": {
        "colab": {
          "base_uri": "https://localhost:8080/"
        },
        "id": "x2CREdE_4H4Y",
        "outputId": "39116577-1c39-4577-fb5c-7177cd5b8714"
      },
      "execution_count": 12,
      "outputs": [
        {
          "output_type": "stream",
          "name": "stdout",
          "text": [
            "\n",
            "--- Solving /content/sample_data/episodic-mdp-10-5.txt (episodic, γ=1.0) ---\n",
            "Converged in 27073 iterations (δ=0.000001)\n",
            "State 0: V* = 0.000000\tπ* = –\n",
            "State 1: V* = 530.217612\tπ* = 3\n",
            "State 2: V* = 530.511462\tπ* = 4\n",
            "State 3: V* = 504.796539\tπ* = 2\n",
            "State 4: V* = 472.946092\tπ* = 1\n",
            "State 5: V* = 0.000000\tπ* = –\n",
            "State 6: V* = 526.950797\tπ* = 2\n",
            "State 7: V* = 518.462150\tπ* = 2\n",
            "State 8: V* = 354.456197\tπ* = 4\n",
            "State 9: V* = 529.289936\tπ* = 0\n"
          ]
        }
      ]
    },
    {
      "cell_type": "code",
      "source": [
        "mdp_files = sorted(glob.glob('/content/sample_data/episodic-mdp-50-20.txt'))\n",
        "\n",
        "for path in mdp_files:\n",
        "    S, A, terms, trans, mdptype, gamma = load_mdp(path)\n",
        "    print(f\"\\n--- Solving {path} ({mdptype}, γ={gamma}) ---\")\n",
        "    V, pi = value_iteration(S, A, terms, trans, gamma)\n",
        "    for s in range(S):\n",
        "        action = '–' if pi[s] < 0 else pi[s]\n",
        "        print(f\"State {s}: V* = {V[s]:.6f}\\tπ* = {action}\")\n"
      ],
      "metadata": {
        "colab": {
          "base_uri": "https://localhost:8080/"
        },
        "id": "Qd-PEVqj4Mwj",
        "outputId": "c56e5acd-81d5-4732-d395-36aff73d255d"
      },
      "execution_count": 13,
      "outputs": [
        {
          "output_type": "stream",
          "name": "stdout",
          "text": [
            "\n",
            "--- Solving /content/sample_data/episodic-mdp-50-20.txt (episodic, γ=0.9) ---\n",
            "Converged in 130 iterations (δ=0.000001)\n",
            "State 0: V* = 7.985534\tπ* = 16\n",
            "State 1: V* = 7.837288\tπ* = 9\n",
            "State 2: V* = 0.000000\tπ* = –\n",
            "State 3: V* = 7.664208\tπ* = 18\n",
            "State 4: V* = 7.830733\tπ* = 15\n",
            "State 5: V* = 7.826870\tπ* = 12\n",
            "State 6: V* = 7.943419\tπ* = 10\n",
            "State 7: V* = 8.261761\tπ* = 4\n",
            "State 8: V* = 7.869683\tπ* = 14\n",
            "State 9: V* = 8.348362\tπ* = 5\n",
            "State 10: V* = 7.711347\tπ* = 11\n",
            "State 11: V* = 7.775422\tπ* = 0\n",
            "State 12: V* = 7.914732\tπ* = 17\n",
            "State 13: V* = 8.006124\tπ* = 16\n",
            "State 14: V* = 8.101699\tπ* = 0\n",
            "State 15: V* = 8.089329\tπ* = 15\n",
            "State 16: V* = 0.000000\tπ* = –\n",
            "State 17: V* = 7.652549\tπ* = 9\n",
            "State 18: V* = 8.124849\tπ* = 4\n",
            "State 19: V* = 7.843153\tπ* = 15\n",
            "State 20: V* = 8.415752\tπ* = 12\n",
            "State 21: V* = 7.321332\tπ* = 9\n",
            "State 22: V* = 7.627947\tπ* = 2\n",
            "State 23: V* = 7.984519\tπ* = 7\n",
            "State 24: V* = 7.708902\tπ* = 13\n",
            "State 25: V* = 7.777007\tπ* = 10\n",
            "State 26: V* = 8.089608\tπ* = 15\n",
            "State 27: V* = 5.340496\tπ* = 18\n",
            "State 28: V* = 8.238754\tπ* = 19\n",
            "State 29: V* = 7.855443\tπ* = 6\n",
            "State 30: V* = 7.457369\tπ* = 3\n",
            "State 31: V* = 7.829684\tπ* = 0\n",
            "State 32: V* = 0.000000\tπ* = –\n",
            "State 33: V* = 7.660093\tπ* = 17\n",
            "State 34: V* = 0.000000\tπ* = –\n",
            "State 35: V* = 8.418244\tπ* = 8\n",
            "State 36: V* = 7.959218\tπ* = 17\n",
            "State 37: V* = 8.097631\tπ* = 0\n",
            "State 38: V* = 7.777992\tπ* = 18\n",
            "State 39: V* = 7.661621\tπ* = 0\n",
            "State 40: V* = 7.991027\tπ* = 3\n",
            "State 41: V* = 8.497699\tπ* = 3\n",
            "State 42: V* = 7.933292\tπ* = 8\n",
            "State 43: V* = 7.623529\tπ* = 19\n",
            "State 44: V* = 7.864184\tπ* = 10\n",
            "State 45: V* = 7.799434\tπ* = 1\n",
            "State 46: V* = 7.948452\tπ* = 7\n",
            "State 47: V* = 7.806149\tπ* = 5\n",
            "State 48: V* = 7.637888\tπ* = 18\n",
            "State 49: V* = 7.745232\tπ* = 18\n"
          ]
        }
      ]
    }
  ]
}